{
 "cells": [
  {
   "cell_type": "code",
   "execution_count": 1,
   "metadata": {},
   "outputs": [],
   "source": [
    "import pandas as pd\n",
    "import seaborn as sns\n",
    "import matplotlib.pyplot as plt\n",
    "from sklearn import preprocessing\n",
    "pd.set_option('display.max_rows', 500)\n",
    "pd.set_option('display.float_format', lambda x: '%.3f' % x)"
   ]
  },
  {
   "cell_type": "markdown",
   "metadata": {},
   "source": [
    "# Задание"
   ]
  },
  {
   "cell_type": "markdown",
   "metadata": {},
   "source": [
    "Даны две выгрузки:\n",
    "\n",
    "    - Платежи за  период Payments.csv\n",
    "    - Пользователи за этот же период Users.csv"
   ]
  },
  {
   "cell_type": "markdown",
   "metadata": {},
   "source": [
    "[Какие метрики можно рассчитать?](#ans)\n",
    "\n",
    "[Какие сегменты вы бы выделили?](#ans)\n",
    "\n",
    "Возьмите данную выгрузку и сделайте следующее:\n",
    "\n",
    "* [Распределите IAP по кол-ву (шт.)  и по доходам (в USD), которые они принесли](#iap)\n",
    "* [Распределите доход от данной когорты по уровню игроков](#rev)"
   ]
  },
  {
   "cell_type": "markdown",
   "metadata": {},
   "source": [
    "# Решение "
   ]
  },
  {
   "cell_type": "markdown",
   "metadata": {},
   "source": [
    "## Загрузка данных"
   ]
  },
  {
   "cell_type": "markdown",
   "metadata": {},
   "source": [
    "Загрузим данные и посмотрим, что в них содержится"
   ]
  },
  {
   "cell_type": "code",
   "execution_count": 2,
   "metadata": {},
   "outputs": [],
   "source": [
    "payments_data = pd.read_csv('Payments.csv')"
   ]
  },
  {
   "cell_type": "code",
   "execution_count": 3,
   "metadata": {},
   "outputs": [
    {
     "data": {
      "text/html": [
       "<div>\n",
       "<style scoped>\n",
       "    .dataframe tbody tr th:only-of-type {\n",
       "        vertical-align: middle;\n",
       "    }\n",
       "\n",
       "    .dataframe tbody tr th {\n",
       "        vertical-align: top;\n",
       "    }\n",
       "\n",
       "    .dataframe thead th {\n",
       "        text-align: right;\n",
       "    }\n",
       "</style>\n",
       "<table border=\"1\" class=\"dataframe\">\n",
       "  <thead>\n",
       "    <tr style=\"text-align: right;\">\n",
       "      <th></th>\n",
       "      <th>User_ID</th>\n",
       "      <th>Date</th>\n",
       "      <th>Level</th>\n",
       "      <th>Transaction_name</th>\n",
       "      <th>Amount_in_usd</th>\n",
       "    </tr>\n",
       "  </thead>\n",
       "  <tbody>\n",
       "    <tr>\n",
       "      <th>0</th>\n",
       "      <td>853904</td>\n",
       "      <td>2018-11-28 15:44:18</td>\n",
       "      <td>10</td>\n",
       "      <td>pack11</td>\n",
       "      <td>5.069</td>\n",
       "    </tr>\n",
       "    <tr>\n",
       "      <th>1</th>\n",
       "      <td>1334215</td>\n",
       "      <td>2018-11-28 20:21:39</td>\n",
       "      <td>18</td>\n",
       "      <td>usd4</td>\n",
       "      <td>3.990</td>\n",
       "    </tr>\n",
       "    <tr>\n",
       "      <th>2</th>\n",
       "      <td>1248300</td>\n",
       "      <td>2018-11-28 21:53:49</td>\n",
       "      <td>10</td>\n",
       "      <td>pack11</td>\n",
       "      <td>4.990</td>\n",
       "    </tr>\n",
       "    <tr>\n",
       "      <th>3</th>\n",
       "      <td>26280</td>\n",
       "      <td>2018-11-29 02:26:19</td>\n",
       "      <td>34</td>\n",
       "      <td>usd50</td>\n",
       "      <td>49.990</td>\n",
       "    </tr>\n",
       "    <tr>\n",
       "      <th>4</th>\n",
       "      <td>74660</td>\n",
       "      <td>2018-11-28 01:58:44</td>\n",
       "      <td>6</td>\n",
       "      <td>usd10</td>\n",
       "      <td>9.990</td>\n",
       "    </tr>\n",
       "  </tbody>\n",
       "</table>\n",
       "</div>"
      ],
      "text/plain": [
       "   User_ID                 Date  Level Transaction_name  Amount_in_usd\n",
       "0   853904  2018-11-28 15:44:18     10           pack11          5.069\n",
       "1  1334215  2018-11-28 20:21:39     18             usd4          3.990\n",
       "2  1248300  2018-11-28 21:53:49     10           pack11          4.990\n",
       "3    26280  2018-11-29 02:26:19     34            usd50         49.990\n",
       "4    74660  2018-11-28 01:58:44      6            usd10          9.990"
      ]
     },
     "execution_count": 3,
     "metadata": {},
     "output_type": "execute_result"
    }
   ],
   "source": [
    "payments_data.head()"
   ]
  },
  {
   "cell_type": "code",
   "execution_count": 4,
   "metadata": {},
   "outputs": [
    {
     "name": "stdout",
     "output_type": "stream",
     "text": [
      "<class 'pandas.core.frame.DataFrame'>\n",
      "RangeIndex: 4835 entries, 0 to 4834\n",
      "Data columns (total 5 columns):\n",
      " #   Column            Non-Null Count  Dtype  \n",
      "---  ------            --------------  -----  \n",
      " 0   User_ID           4835 non-null   int64  \n",
      " 1   Date              4835 non-null   object \n",
      " 2   Level             4835 non-null   int64  \n",
      " 3   Transaction_name  4835 non-null   object \n",
      " 4   Amount_in_usd     4835 non-null   float64\n",
      "dtypes: float64(1), int64(2), object(2)\n",
      "memory usage: 189.0+ KB\n"
     ]
    }
   ],
   "source": [
    "payments_data.info()"
   ]
  },
  {
   "cell_type": "markdown",
   "metadata": {},
   "source": [
    "В данных платежей содержатся:\n",
    "\n",
    "    - User_ID - идентификатор пользователя\n",
    "    - Date - дата платежа (формат дата-время)\n",
    "    - Level - уровень пользователя\n",
    "    - Transaction_name - название проданного товара\n",
    "    - Amount_in_usd - стоимость покупки в долларах\n",
    "    \n",
    " Незаполненных данных нет"
   ]
  },
  {
   "cell_type": "code",
   "execution_count": 5,
   "metadata": {},
   "outputs": [],
   "source": [
    "users_data = pd.read_csv('Users.csv')"
   ]
  },
  {
   "cell_type": "code",
   "execution_count": 6,
   "metadata": {},
   "outputs": [
    {
     "data": {
      "text/html": [
       "<div>\n",
       "<style scoped>\n",
       "    .dataframe tbody tr th:only-of-type {\n",
       "        vertical-align: middle;\n",
       "    }\n",
       "\n",
       "    .dataframe tbody tr th {\n",
       "        vertical-align: top;\n",
       "    }\n",
       "\n",
       "    .dataframe thead th {\n",
       "        text-align: right;\n",
       "    }\n",
       "</style>\n",
       "<table border=\"1\" class=\"dataframe\">\n",
       "  <thead>\n",
       "    <tr style=\"text-align: right;\">\n",
       "      <th></th>\n",
       "      <th>User_ID</th>\n",
       "      <th>Created</th>\n",
       "      <th>Paying</th>\n",
       "      <th>Tester</th>\n",
       "      <th>Level</th>\n",
       "      <th>Country</th>\n",
       "      <th>Channel</th>\n",
       "    </tr>\n",
       "  </thead>\n",
       "  <tbody>\n",
       "    <tr>\n",
       "      <th>0</th>\n",
       "      <td>1053809</td>\n",
       "      <td>2018-08-06 19:50:54</td>\n",
       "      <td>False</td>\n",
       "      <td>False</td>\n",
       "      <td>11</td>\n",
       "      <td>US</td>\n",
       "      <td>Organic</td>\n",
       "    </tr>\n",
       "    <tr>\n",
       "      <th>1</th>\n",
       "      <td>1238127</td>\n",
       "      <td>2018-10-27 15:13:14</td>\n",
       "      <td>True</td>\n",
       "      <td>False</td>\n",
       "      <td>17</td>\n",
       "      <td>RU</td>\n",
       "      <td>Organic</td>\n",
       "    </tr>\n",
       "    <tr>\n",
       "      <th>2</th>\n",
       "      <td>1298955</td>\n",
       "      <td>2018-11-18 04:22:40</td>\n",
       "      <td>False</td>\n",
       "      <td>False</td>\n",
       "      <td>1</td>\n",
       "      <td>CN</td>\n",
       "      <td>Organic</td>\n",
       "    </tr>\n",
       "    <tr>\n",
       "      <th>3</th>\n",
       "      <td>1288864</td>\n",
       "      <td>2018-11-16 00:54:20</td>\n",
       "      <td>False</td>\n",
       "      <td>False</td>\n",
       "      <td>9</td>\n",
       "      <td>US</td>\n",
       "      <td>Facebook Ads</td>\n",
       "    </tr>\n",
       "    <tr>\n",
       "      <th>4</th>\n",
       "      <td>1198466</td>\n",
       "      <td>2018-10-03 06:29:24</td>\n",
       "      <td>False</td>\n",
       "      <td>False</td>\n",
       "      <td>7</td>\n",
       "      <td>US</td>\n",
       "      <td>unityads_int</td>\n",
       "    </tr>\n",
       "  </tbody>\n",
       "</table>\n",
       "</div>"
      ],
      "text/plain": [
       "   User_ID              Created  Paying  Tester  Level Country       Channel\n",
       "0  1053809  2018-08-06 19:50:54   False   False     11      US       Organic\n",
       "1  1238127  2018-10-27 15:13:14    True   False     17      RU       Organic\n",
       "2  1298955  2018-11-18 04:22:40   False   False      1      CN       Organic\n",
       "3  1288864  2018-11-16 00:54:20   False   False      9      US  Facebook Ads\n",
       "4  1198466  2018-10-03 06:29:24   False   False      7      US  unityads_int"
      ]
     },
     "execution_count": 6,
     "metadata": {},
     "output_type": "execute_result"
    }
   ],
   "source": [
    "users_data.head()"
   ]
  },
  {
   "cell_type": "code",
   "execution_count": 7,
   "metadata": {},
   "outputs": [
    {
     "name": "stdout",
     "output_type": "stream",
     "text": [
      "<class 'pandas.core.frame.DataFrame'>\n",
      "RangeIndex: 27205 entries, 0 to 27204\n",
      "Data columns (total 7 columns):\n",
      " #   Column   Non-Null Count  Dtype \n",
      "---  ------   --------------  ----- \n",
      " 0   User_ID  27205 non-null  int64 \n",
      " 1   Created  27205 non-null  object\n",
      " 2   Paying   27205 non-null  bool  \n",
      " 3   Tester   27205 non-null  bool  \n",
      " 4   Level    27205 non-null  int64 \n",
      " 5   Country  27101 non-null  object\n",
      " 6   Channel  27205 non-null  object\n",
      "dtypes: bool(2), int64(2), object(3)\n",
      "memory usage: 1.1+ MB\n"
     ]
    }
   ],
   "source": [
    "users_data.info()"
   ]
  },
  {
   "cell_type": "markdown",
   "metadata": {},
   "source": [
    "В данных пользователей содержатся:\n",
    "\n",
    "    - User_ID - идентификатор пользователя\n",
    "    - Created - дата регистрации (формат дата-время)\n",
    "    - Paying - признак того, что пользователь плательшик\n",
    "    - Tester - признак того, является ли пользователь тестером\n",
    "    - Level - уровень пользователя\n",
    "    - Country - страна пользователя\n",
    "    - Channel - откуда пришел пользователь\n",
    "    \n",
    "Для некоторых пользователей нет данных по стране"
   ]
  },
  {
   "cell_type": "markdown",
   "metadata": {},
   "source": [
    "## Подготовка данных"
   ]
  },
  {
   "cell_type": "markdown",
   "metadata": {},
   "source": [
    "Так как среди наших пользователей могут быть тестеры, исключим их покупки, если они есть. Также добавим разобьем уровни пользователей на группы и добавим к данным покупок группу уровней пользователя. И страну из таблицы users. Это нужно для того, чтобы предоставить графики доходов по странам и по группам уровней"
   ]
  },
  {
   "cell_type": "markdown",
   "metadata": {},
   "source": [
    "Посмотрим какие уровни есть у пользователей"
   ]
  },
  {
   "cell_type": "code",
   "execution_count": 8,
   "metadata": {},
   "outputs": [
    {
     "name": "stdout",
     "output_type": "stream",
     "text": [
      "Минимальный уровень 1\n",
      "Максимальный уровень 56\n"
     ]
    }
   ],
   "source": [
    "print('Минимальный уровень', min(payments_data.Level))\n",
    "print('Максимальный уровень', max(payments_data.Level))"
   ]
  },
  {
   "cell_type": "markdown",
   "metadata": {},
   "source": [
    "Сформируем таблицу с данными пользователей (id, страна), исключив тестеров"
   ]
  },
  {
   "cell_type": "code",
   "execution_count": 9,
   "metadata": {},
   "outputs": [],
   "source": [
    "users_data_for_join = users_data.loc[users_data['Tester'] == False, ['User_ID', 'Country']]"
   ]
  },
  {
   "cell_type": "code",
   "execution_count": 10,
   "metadata": {},
   "outputs": [],
   "source": [
    "payments_data = payments_data.merge(users_data_for_join, how = 'inner', on = 'User_ID', suffixes = ('_payment', '_user'))"
   ]
  },
  {
   "cell_type": "code",
   "execution_count": 11,
   "metadata": {},
   "outputs": [
    {
     "data": {
      "text/html": [
       "<div>\n",
       "<style scoped>\n",
       "    .dataframe tbody tr th:only-of-type {\n",
       "        vertical-align: middle;\n",
       "    }\n",
       "\n",
       "    .dataframe tbody tr th {\n",
       "        vertical-align: top;\n",
       "    }\n",
       "\n",
       "    .dataframe thead th {\n",
       "        text-align: right;\n",
       "    }\n",
       "</style>\n",
       "<table border=\"1\" class=\"dataframe\">\n",
       "  <thead>\n",
       "    <tr style=\"text-align: right;\">\n",
       "      <th></th>\n",
       "      <th>User_ID</th>\n",
       "      <th>Date</th>\n",
       "      <th>Level</th>\n",
       "      <th>Transaction_name</th>\n",
       "      <th>Amount_in_usd</th>\n",
       "      <th>Country</th>\n",
       "    </tr>\n",
       "  </thead>\n",
       "  <tbody>\n",
       "    <tr>\n",
       "      <th>0</th>\n",
       "      <td>853904</td>\n",
       "      <td>2018-11-28 15:44:18</td>\n",
       "      <td>10</td>\n",
       "      <td>pack11</td>\n",
       "      <td>5.069</td>\n",
       "      <td>AU</td>\n",
       "    </tr>\n",
       "    <tr>\n",
       "      <th>1</th>\n",
       "      <td>1334215</td>\n",
       "      <td>2018-11-28 20:21:39</td>\n",
       "      <td>18</td>\n",
       "      <td>usd4</td>\n",
       "      <td>3.990</td>\n",
       "      <td>US</td>\n",
       "    </tr>\n",
       "    <tr>\n",
       "      <th>2</th>\n",
       "      <td>1334215</td>\n",
       "      <td>2018-12-02 02:54:32</td>\n",
       "      <td>20</td>\n",
       "      <td>usd4</td>\n",
       "      <td>3.990</td>\n",
       "      <td>US</td>\n",
       "    </tr>\n",
       "    <tr>\n",
       "      <th>3</th>\n",
       "      <td>1334215</td>\n",
       "      <td>2018-12-04 04:58:32</td>\n",
       "      <td>21</td>\n",
       "      <td>usd4</td>\n",
       "      <td>3.990</td>\n",
       "      <td>US</td>\n",
       "    </tr>\n",
       "    <tr>\n",
       "      <th>4</th>\n",
       "      <td>1334215</td>\n",
       "      <td>2018-11-22 07:37:38</td>\n",
       "      <td>6</td>\n",
       "      <td>usd4</td>\n",
       "      <td>3.990</td>\n",
       "      <td>US</td>\n",
       "    </tr>\n",
       "  </tbody>\n",
       "</table>\n",
       "</div>"
      ],
      "text/plain": [
       "   User_ID                 Date  Level Transaction_name  Amount_in_usd Country\n",
       "0   853904  2018-11-28 15:44:18     10           pack11          5.069      AU\n",
       "1  1334215  2018-11-28 20:21:39     18             usd4          3.990      US\n",
       "2  1334215  2018-12-02 02:54:32     20             usd4          3.990      US\n",
       "3  1334215  2018-12-04 04:58:32     21             usd4          3.990      US\n",
       "4  1334215  2018-11-22 07:37:38      6             usd4          3.990      US"
      ]
     },
     "execution_count": 11,
     "metadata": {},
     "output_type": "execute_result"
    }
   ],
   "source": [
    "payments_data.head()"
   ]
  },
  {
   "cell_type": "code",
   "execution_count": 12,
   "metadata": {},
   "outputs": [
    {
     "name": "stdout",
     "output_type": "stream",
     "text": [
      "<class 'pandas.core.frame.DataFrame'>\n",
      "Int64Index: 4831 entries, 0 to 4830\n",
      "Data columns (total 6 columns):\n",
      " #   Column            Non-Null Count  Dtype  \n",
      "---  ------            --------------  -----  \n",
      " 0   User_ID           4831 non-null   int64  \n",
      " 1   Date              4831 non-null   object \n",
      " 2   Level             4831 non-null   int64  \n",
      " 3   Transaction_name  4831 non-null   object \n",
      " 4   Amount_in_usd     4831 non-null   float64\n",
      " 5   Country           4821 non-null   object \n",
      "dtypes: float64(1), int64(2), object(3)\n",
      "memory usage: 264.2+ KB\n"
     ]
    }
   ],
   "source": [
    "payments_data.info()"
   ]
  },
  {
   "cell_type": "markdown",
   "metadata": {},
   "source": [
    "## Ответы на вопросы "
   ]
  },
  {
   "cell_type": "markdown",
   "metadata": {},
   "source": [
    "<a id='ans'> </a>  \n",
    "* Какие метрики можно рассчитать?\n",
    "\n",
    "    По платежам можно рассчитать метрики ARPU, ARPPU, ARPDAU и выручку с платежей в целом.\n",
    "    \n",
    "\n",
    "* Какие сегменты вы бы выделили?\n",
    "\n",
    "    Проанализировать доход можно по:\n",
    "\n",
    "    - Уровням пользователей.\n",
    "      Но не по каждому уровню, а например разбив по группам уровней. Например на уровни 1-7, 8-20, 21 и более\n",
    "    - Странам пользователей\n",
    "    - Каналам привлечения\n",
    "    - Проданным товарам"
   ]
  },
  {
   "cell_type": "markdown",
   "metadata": {},
   "source": [
    "## Распределение IAP <a id='iap'> </a>"
   ]
  },
  {
   "cell_type": "markdown",
   "metadata": {},
   "source": [
    "### Доход и кол-во проданных товаров"
   ]
  },
  {
   "cell_type": "markdown",
   "metadata": {},
   "source": [
    "Для начала посмотрим как распределялись купленные товары по кол-ву и выручке. Под купленным товаром подразумевается значение в колонке `Transaction_name`"
   ]
  },
  {
   "cell_type": "code",
   "execution_count": 13,
   "metadata": {},
   "outputs": [],
   "source": [
    "rows_list = []\n",
    "\n",
    "for product in payments_data.Transaction_name.unique():\n",
    "    product_count = len(payments_data[payments_data['Transaction_name'] == product])\n",
    "    product_revenue = sum(payments_data[payments_data['Transaction_name'] == product].Amount_in_usd)\n",
    "    rows_list.append({'Product':product, 'Count':product_count, 'Amount':product_revenue})\n",
    "\n",
    "products_revenue = pd.DataFrame(rows_list)"
   ]
  },
  {
   "cell_type": "code",
   "execution_count": 14,
   "metadata": {},
   "outputs": [
    {
     "name": "stdout",
     "output_type": "stream",
     "text": [
      "Кол-во продуктов =  63\n"
     ]
    }
   ],
   "source": [
    "print('Кол-во продуктов = ', len(products_revenue))"
   ]
  },
  {
   "cell_type": "markdown",
   "metadata": {},
   "source": [
    "Так как продуктов много, выведем только 10 продуктов, приносящих существенный доход"
   ]
  },
  {
   "cell_type": "code",
   "execution_count": 15,
   "metadata": {},
   "outputs": [],
   "source": [
    "largest_revenues = products_revenue.nlargest(10, ['Amount'])"
   ]
  },
  {
   "cell_type": "code",
   "execution_count": 16,
   "metadata": {},
   "outputs": [
    {
     "data": {
      "text/html": [
       "<div>\n",
       "<style scoped>\n",
       "    .dataframe tbody tr th:only-of-type {\n",
       "        vertical-align: middle;\n",
       "    }\n",
       "\n",
       "    .dataframe tbody tr th {\n",
       "        vertical-align: top;\n",
       "    }\n",
       "\n",
       "    .dataframe thead th {\n",
       "        text-align: right;\n",
       "    }\n",
       "</style>\n",
       "<table border=\"1\" class=\"dataframe\">\n",
       "  <thead>\n",
       "    <tr style=\"text-align: right;\">\n",
       "      <th></th>\n",
       "      <th>Product</th>\n",
       "      <th>Count</th>\n",
       "      <th>Amount</th>\n",
       "    </tr>\n",
       "  </thead>\n",
       "  <tbody>\n",
       "    <tr>\n",
       "      <th>0</th>\n",
       "      <td>pack11</td>\n",
       "      <td>357</td>\n",
       "      <td>597039510.847</td>\n",
       "    </tr>\n",
       "    <tr>\n",
       "      <th>3</th>\n",
       "      <td>usd10</td>\n",
       "      <td>505</td>\n",
       "      <td>74212765.826</td>\n",
       "    </tr>\n",
       "    <tr>\n",
       "      <th>25</th>\n",
       "      <td>usd75</td>\n",
       "      <td>126</td>\n",
       "      <td>9655.112</td>\n",
       "    </tr>\n",
       "    <tr>\n",
       "      <th>15</th>\n",
       "      <td>usd25</td>\n",
       "      <td>225</td>\n",
       "      <td>5809.884</td>\n",
       "    </tr>\n",
       "    <tr>\n",
       "      <th>5</th>\n",
       "      <td>pack13</td>\n",
       "      <td>182</td>\n",
       "      <td>3612.614</td>\n",
       "    </tr>\n",
       "  </tbody>\n",
       "</table>\n",
       "</div>"
      ],
      "text/plain": [
       "   Product  Count        Amount\n",
       "0   pack11    357 597039510.847\n",
       "3    usd10    505  74212765.826\n",
       "25   usd75    126      9655.112\n",
       "15   usd25    225      5809.884\n",
       "5   pack13    182      3612.614"
      ]
     },
     "execution_count": 16,
     "metadata": {},
     "output_type": "execute_result"
    }
   ],
   "source": [
    "largest_revenues.head()"
   ]
  },
  {
   "cell_type": "markdown",
   "metadata": {},
   "source": [
    "Так как есть большой разброс в выручке по продуктам pack11 и usd10, выведем графики по ним отдельно"
   ]
  },
  {
   "cell_type": "code",
   "execution_count": 17,
   "metadata": {},
   "outputs": [],
   "source": [
    "sns.set(rc={'figure.figsize':(10,5)})"
   ]
  },
  {
   "cell_type": "code",
   "execution_count": 18,
   "metadata": {},
   "outputs": [
    {
     "data": {
      "image/png": "[encoded data removed]",
      "text/plain": [
       "<Figure size 720x360 with 1 Axes>"
      ]
     },
     "metadata": {},
     "output_type": "display_data"
    }
   ],
   "source": [
    "ax1 = sns.barplot(x=\"Product\", y=\"Count\", data=largest_revenues[:2])\n",
    "ax1.set(xlabel='Продукт', ylabel='Кол-во', title = 'Распределение кол-ва покупок самых прибыльных продуктов');"
   ]
  },
  {
   "cell_type": "code",
   "execution_count": 19,
   "metadata": {},
   "outputs": [
    {
     "data": {
      "image/png": "[encoded data removed]",
      "text/plain": [
       "<Figure size 720x360 with 1 Axes>"
      ]
     },
     "metadata": {},
     "output_type": "display_data"
    }
   ],
   "source": [
    "ax2 = sns.barplot(x = \"Product\", y = \"Amount\", data=largest_revenues[:2])\n",
    "ax2.set(xlabel = 'Продукт', ylabel = 'Прибыль', title = 'Распределение дохода самых прибыльных продуктов');"
   ]
  },
  {
   "cell_type": "markdown",
   "metadata": {},
   "source": [
    "Выведем графики по остальным продуктам"
   ]
  },
  {
   "cell_type": "code",
   "execution_count": 20,
   "metadata": {},
   "outputs": [
    {
     "data": {
      "image/png": "[encoded data removed]",
      "text/plain": [
       "<Figure size 720x360 with 1 Axes>"
      ]
     },
     "metadata": {},
     "output_type": "display_data"
    }
   ],
   "source": [
    "ax1 = sns.barplot(x=\"Product\", y=\"Count\", data=largest_revenues[2:])\n",
    "ax1.set(xlabel='Продукт', ylabel='Кол-во', title = 'Распределение кол-ва покупок');"
   ]
  },
  {
   "cell_type": "code",
   "execution_count": 21,
   "metadata": {},
   "outputs": [
    {
     "data": {
      "image/png": "[encoded data removed]",
      "text/plain": [
       "<Figure size 720x360 with 1 Axes>"
      ]
     },
     "metadata": {},
     "output_type": "display_data"
    }
   ],
   "source": [
    "ax2 = sns.barplot(x = \"Product\", y = \"Amount\", data=largest_revenues[2:])\n",
    "ax2.set(xlabel = 'Продукт', ylabel = 'Прибыль', title = 'Распределение дохода');"
   ]
  },
  {
   "cell_type": "markdown",
   "metadata": {},
   "source": [
    "## Доход по уровням игроков <a id='rev'> </a>"
   ]
  },
  {
   "cell_type": "markdown",
   "metadata": {},
   "source": [
    "Сгруппируем данные по доходу в разрезе групп уровней."
   ]
  },
  {
   "cell_type": "code",
   "execution_count": 22,
   "metadata": {},
   "outputs": [],
   "source": [
    "payments_by_level = payments_data.loc[:,['Level', 'Amount_in_usd']].groupby(by = 'Level', as_index=False).sum('Amount_in_usd')"
   ]
  },
  {
   "cell_type": "markdown",
   "metadata": {},
   "source": [
    "Построим график распределения доходов по группам уровней игроков"
   ]
  },
  {
   "cell_type": "code",
   "execution_count": 23,
   "metadata": {},
   "outputs": [
    {
     "data": {
      "text/html": [
       "<div>\n",
       "<style scoped>\n",
       "    .dataframe tbody tr th:only-of-type {\n",
       "        vertical-align: middle;\n",
       "    }\n",
       "\n",
       "    .dataframe tbody tr th {\n",
       "        vertical-align: top;\n",
       "    }\n",
       "\n",
       "    .dataframe thead th {\n",
       "        text-align: right;\n",
       "    }\n",
       "</style>\n",
       "<table border=\"1\" class=\"dataframe\">\n",
       "  <thead>\n",
       "    <tr style=\"text-align: right;\">\n",
       "      <th></th>\n",
       "      <th>Level</th>\n",
       "      <th>Amount_in_usd</th>\n",
       "    </tr>\n",
       "  </thead>\n",
       "  <tbody>\n",
       "    <tr>\n",
       "      <th>0</th>\n",
       "      <td>1</td>\n",
       "      <td>407.766</td>\n",
       "    </tr>\n",
       "    <tr>\n",
       "      <th>1</th>\n",
       "      <td>2</td>\n",
       "      <td>28.365</td>\n",
       "    </tr>\n",
       "    <tr>\n",
       "      <th>2</th>\n",
       "      <td>3</td>\n",
       "      <td>2006.517</td>\n",
       "    </tr>\n",
       "    <tr>\n",
       "      <th>3</th>\n",
       "      <td>4</td>\n",
       "      <td>552.286</td>\n",
       "    </tr>\n",
       "    <tr>\n",
       "      <th>4</th>\n",
       "      <td>5</td>\n",
       "      <td>2219.459</td>\n",
       "    </tr>\n",
       "  </tbody>\n",
       "</table>\n",
       "</div>"
      ],
      "text/plain": [
       "   Level  Amount_in_usd\n",
       "0      1        407.766\n",
       "1      2         28.365\n",
       "2      3       2006.517\n",
       "3      4        552.286\n",
       "4      5       2219.459"
      ]
     },
     "execution_count": 23,
     "metadata": {},
     "output_type": "execute_result"
    }
   ],
   "source": [
    "payments_by_level.head()"
   ]
  },
  {
   "cell_type": "code",
   "execution_count": 24,
   "metadata": {},
   "outputs": [
    {
     "data": {
      "image/png": "[encoded data removed]",
      "text/plain": [
       "<Figure size 720x360 with 1 Axes>"
      ]
     },
     "metadata": {},
     "output_type": "display_data"
    }
   ],
   "source": [
    "plt.plot(payments_by_level.Level, payments_by_level.Amount_in_usd, linestyle = 'None', marker=\"o\");"
   ]
  },
  {
   "cell_type": "markdown",
   "metadata": {},
   "source": [
    "Два показателя дохода по уровням являются сильно выделяются (outliers). Найдем их "
   ]
  },
  {
   "cell_type": "code",
   "execution_count": 25,
   "metadata": {},
   "outputs": [
    {
     "data": {
      "text/html": [
       "<div>\n",
       "<style scoped>\n",
       "    .dataframe tbody tr th:only-of-type {\n",
       "        vertical-align: middle;\n",
       "    }\n",
       "\n",
       "    .dataframe tbody tr th {\n",
       "        vertical-align: top;\n",
       "    }\n",
       "\n",
       "    .dataframe thead th {\n",
       "        text-align: right;\n",
       "    }\n",
       "</style>\n",
       "<table border=\"1\" class=\"dataframe\">\n",
       "  <thead>\n",
       "    <tr style=\"text-align: right;\">\n",
       "      <th></th>\n",
       "      <th>Level</th>\n",
       "      <th>Amount_in_usd</th>\n",
       "    </tr>\n",
       "  </thead>\n",
       "  <tbody>\n",
       "    <tr>\n",
       "      <th>9</th>\n",
       "      <td>10</td>\n",
       "      <td>597041443.887</td>\n",
       "    </tr>\n",
       "    <tr>\n",
       "      <th>12</th>\n",
       "      <td>13</td>\n",
       "      <td>74208878.853</td>\n",
       "    </tr>\n",
       "  </tbody>\n",
       "</table>\n",
       "</div>"
      ],
      "text/plain": [
       "    Level  Amount_in_usd\n",
       "9      10  597041443.887\n",
       "12     13   74208878.853"
      ]
     },
     "execution_count": 25,
     "metadata": {},
     "output_type": "execute_result"
    }
   ],
   "source": [
    "payments_by_level.nlargest(2, columns = 'Amount_in_usd')"
   ]
  },
  {
   "cell_type": "markdown",
   "metadata": {},
   "source": [
    "Удалим их и перестоим график по остальным"
   ]
  },
  {
   "cell_type": "code",
   "execution_count": 26,
   "metadata": {},
   "outputs": [],
   "source": [
    "payments_without_outliers = payments_by_level[~payments_by_level.Level.isin([10, 13])]"
   ]
  },
  {
   "cell_type": "code",
   "execution_count": 27,
   "metadata": {},
   "outputs": [
    {
     "data": {
      "image/png": "[encoded data removed]",
      "text/plain": [
       "<Figure size 720x360 with 1 Axes>"
      ]
     },
     "metadata": {},
     "output_type": "display_data"
    }
   ],
   "source": [
    "ax3 = sns.barplot(x = \"Level\", y = \"Amount_in_usd\", data = payments_without_outliers)\n",
    "ax3.set(xlabel = 'Уровень', ylabel = 'Прибыль', title = 'Распределение дохода по уровням игроков')\n",
    "sns.set(rc={'figure.figsize':(20,10)});"
   ]
  }
 ],
 "metadata": {
  "kernelspec": {
   "display_name": "Python 3",
   "language": "python",
   "name": "python3"
  },
  "language_info": {
   "codemirror_mode": {
    "name": "ipython",
    "version": 3
   },
   "file_extension": ".py",
   "mimetype": "text/x-python",
   "name": "python",
   "nbconvert_exporter": "python",
   "pygments_lexer": "ipython3",
   "version": "3.8.5"
  }
 },
 "nbformat": 4,
 "nbformat_minor": 4
}
